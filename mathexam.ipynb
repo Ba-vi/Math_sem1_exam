{
 "cells": [
  {
   "cell_type": "markdown",
   "id": "e5701b98-7150-4fd7-81bb-4c4b702fd84f",
   "metadata": {},
   "source": [
    "# 2024/DSC/0026/SS"
   ]
  },
  {
   "cell_type": "code",
   "execution_count": 32,
   "id": "bd31d0a9",
   "metadata": {},
   "outputs": [],
   "source": [
    "import numpy as np"
   ]
  },
  {
   "cell_type": "markdown",
   "id": "969d3906-a8f2-4cb9-b80c-b958aa7bd88a",
   "metadata": {},
   "source": [
    "# Question five"
   ]
  },
  {
   "cell_type": "markdown",
   "id": "93320202",
   "metadata": {},
   "source": [
    "# Let the matrix be B"
   ]
  },
  {
   "cell_type": "code",
   "execution_count": 33,
   "id": "9ac7df00-6aa9-47f5-ba84-febe575d929f",
   "metadata": {},
   "outputs": [
    {
     "name": "stdout",
     "output_type": "stream",
     "text": [
      "[[1.  0.2 0.5]\n",
      " [0.2 1.  0.8]\n",
      " [0.5 0.8 1. ]]\n"
     ]
    }
   ],
   "source": [
    "B =np.array([[1,0.2,0.5],[0.2,1,0.8],[0.5,0.8,1]])\n",
    "print(B)"
   ]
  },
  {
   "cell_type": "markdown",
   "id": "08421536",
   "metadata": {},
   "source": [
    "# i.Transpose"
   ]
  },
  {
   "cell_type": "code",
   "execution_count": 34,
   "id": "bb0e4fae",
   "metadata": {},
   "outputs": [
    {
     "name": "stdout",
     "output_type": "stream",
     "text": [
      "[[1.  0.2 0.5]\n",
      " [0.2 1.  0.8]\n",
      " [0.5 0.8 1. ]]\n"
     ]
    }
   ],
   "source": [
    "B  = np.array([[1,0.2,0.5],[0.2,1,0.8],[0.5,0.8,1]])\n",
    "print(np.transpose(B))"
   ]
  },
  {
   "cell_type": "markdown",
   "id": "6216048f",
   "metadata": {},
   "source": [
    "# ii.Determinant"
   ]
  },
  {
   "cell_type": "code",
   "execution_count": 35,
   "id": "73deb308",
   "metadata": {},
   "outputs": [
    {
     "name": "stdout",
     "output_type": "stream",
     "text": [
      "0.2299999999999999\n"
     ]
    }
   ],
   "source": [
    "determinant=np.linalg.det(B)\n",
    "print(determinant)"
   ]
  },
  {
   "cell_type": "markdown",
   "id": "8d1878be",
   "metadata": {},
   "source": [
    "# iii.Decompose "
   ]
  },
  {
   "cell_type": "code",
   "execution_count": 36,
   "id": "4c2f4e89",
   "metadata": {},
   "outputs": [
    {
     "name": "stdout",
     "output_type": "stream",
     "text": [
      "EigResult(eigenvalues=array([2.04100779, 0.82188052, 0.13711169]), eigenvectors=array([[-0.43721717, -0.85359707, -0.28321933],\n",
      "       [-0.59931898,  0.51133314, -0.61591816],\n",
      "       [-0.67056536,  0.09955128,  0.73514055]]))\n"
     ]
    }
   ],
   "source": [
    "new_matrix=np.linalg.eig(B)\n",
    "print(new_matrix)"
   ]
  },
  {
   "cell_type": "markdown",
   "id": "e33efb21",
   "metadata": {},
   "source": [
    "# iv.Transform "
   ]
  },
  {
   "cell_type": "code",
   "execution_count": 37,
   "id": "d39c2ffa",
   "metadata": {},
   "outputs": [
    {
     "name": "stdout",
     "output_type": "stream",
     "text": [
      "[-1.47687459 -1.30829388 -0.98346762]\n"
     ]
    }
   ],
   "source": [
    "matrix=np.linalg.multi_dot(new_matrix)\n",
    "print(matrix)"
   ]
  },
  {
   "cell_type": "markdown",
   "id": "4ca4439a",
   "metadata": {},
   "source": [
    "# QUESTION SIX"
   ]
  },
  {
   "cell_type": "markdown",
   "id": "1aa0a8dc",
   "metadata": {},
   "source": [
    "# importing libraries"
   ]
  },
  {
   "cell_type": "code",
   "execution_count": 38,
   "id": "8b71520b",
   "metadata": {},
   "outputs": [],
   "source": [
    "import seaborn as sns"
   ]
  },
  {
   "cell_type": "code",
   "execution_count": 39,
   "id": "3b0cff34",
   "metadata": {},
   "outputs": [],
   "source": [
    "import matplotlib.pyplot as plt"
   ]
  },
  {
   "cell_type": "code",
   "execution_count": 40,
   "id": "70aed247",
   "metadata": {},
   "outputs": [],
   "source": [
    "from numpy import random"
   ]
  },
  {
   "cell_type": "markdown",
   "id": "4c25deaa",
   "metadata": {},
   "source": [
    "# i"
   ]
  },
  {
   "cell_type": "code",
   "execution_count": 41,
   "id": "cdd71479",
   "metadata": {},
   "outputs": [],
   "source": [
    "poisson_data=random.poisson(lam=5,size=1000)\n"
   ]
  },
  {
   "cell_type": "markdown",
   "id": "c5b9f2d8",
   "metadata": {},
   "source": [
    "# ii"
   ]
  },
  {
   "cell_type": "code",
   "execution_count": 42,
   "id": "a8d09cd8",
   "metadata": {},
   "outputs": [
    {
     "name": "stdout",
     "output_type": "stream",
     "text": [
      "[ 0.21413026  9.27711452 -0.29843091  6.1212369  -2.24438293  8.40080885\n",
      "  4.69772225  9.17237108 -4.67303201 -2.50607207]\n"
     ]
    }
   ],
   "source": [
    "normal_data=random.normal(loc=3,scale=4,size=10)\n",
    "print(normal_data)"
   ]
  },
  {
   "cell_type": "markdown",
   "id": "1322b5d0",
   "metadata": {},
   "source": [
    "# iii"
   ]
  },
  {
   "cell_type": "code",
   "execution_count": 43,
   "id": "747a9cd0",
   "metadata": {},
   "outputs": [
    {
     "data": {
      "text/plain": [
       "<function matplotlib.pyplot.show(close=None, block=None)>"
      ]
     },
     "execution_count": 43,
     "metadata": {},
     "output_type": "execute_result"
    },
    {
     "data": {
      "image/png": "[encoded data removed]",
      "text/plain": [
       "<Figure size 640x480 with 1 Axes>"
      ]
     },
     "metadata": {},
     "output_type": "display_data"
    }
   ],
   "source": [
    "poisson_data= random.poisson(lam=5,size=1000)\n",
    "sns.histplot(poisson_data,label=\"poisson\",color=\"green\")\n",
    "plt.title(\"A histogram of samples visualizing poisson distribution\")\n",
    "plt.legend()\n",
    "plt.show"
   ]
  },
  {
   "cell_type": "markdown",
   "id": "057e1fcb",
   "metadata": {},
   "source": []
  }
 ],
 "metadata": {
  "kernelspec": {
   "display_name": "Python 3",
   "language": "python",
   "name": "python3"
  },
  "language_info": {
   "codemirror_mode": {
    "name": "ipython",
    "version": 3
   },
   "file_extension": ".py",
   "mimetype": "text/x-python",
   "name": "python",
   "nbconvert_exporter": "python",
   "pygments_lexer": "ipython3",
   "version": "3.12.6"
  }
 },
 "nbformat": 4,
 "nbformat_minor": 5
}
